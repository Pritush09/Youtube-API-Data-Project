{
 "cells": [
  {
   "cell_type": "code",
   "execution_count": 1,
   "id": "00694c4c",
   "metadata": {},
   "outputs": [],
   "source": [
    "import pandas as pd\n",
    "import seaborn as sns\n",
    "import numpy as np\n",
    "from googleapiclient.discovery import build"
   ]
  },
  {
   "cell_type": "code",
   "execution_count": 2,
   "id": "27a35eb4",
   "metadata": {},
   "outputs": [],
   "source": [
    "api_key = \"Enter your apikey given by google\""
   ]
  },
  {
   "cell_type": "code",
   "execution_count": 3,
   "id": "b5048fac",
   "metadata": {},
   "outputs": [],
   "source": [
    "# these are some channel id i have fetched to see the statistics\n",
    "channel_id = ['UCCWi3hpnq_Pe03nGxuS7isg','UCMiJRAwDNSNzuYeN2uWa0pA','UCdp6UknWLGfXTo4XYEVib0Q','UCXUJJNoP1QupwsYIWFXmsZg']"
   ]
  },
  {
   "cell_type": "code",
   "execution_count": 4,
   "id": "5926c3fb",
   "metadata": {},
   "outputs": [],
   "source": [
    "youtube = build('youtube','v3',developerKey=api_key)"
   ]
  },
  {
   "cell_type": "code",
   "execution_count": 41,
   "id": "1d7f3908",
   "metadata": {},
   "outputs": [
    {
     "data": {
      "text/plain": [
       "{'kind': 'youtube#channelListResponse',\n",
       " 'etag': 'yQDcHH6mGEpbkjkqND39WdLImP0',\n",
       " 'pageInfo': {'totalResults': 4, 'resultsPerPage': 5},\n",
       " 'items': [{'kind': 'youtube#channel',\n",
       "   'etag': '6WFTCDDSlbQM_3po6CmCOUp_CVI',\n",
       "   'id': 'UCXUJJNoP1QupwsYIWFXmsZg',\n",
       "   'snippet': {'title': 'Tech Burner',\n",
       "    'description': 'Tech Videos that count!\\nJoin Us :)\\nBrands and Business : business@techburner.in\\n\\nThis Channel is owned by Burner Media owned by Shlok Srivastava.',\n",
       "    'customUrl': '@techburner',\n",
       "    'publishedAt': '2014-09-26T18:24:03Z',\n",
       "    'thumbnails': {'default': {'url': 'https://yt3.ggpht.com/ytc/AL5GRJUUlFKrYwjjCnGkmZSLHji3O5iLKd62XENM40wN6g=s88-c-k-c0x00ffffff-no-rj',\n",
       "      'width': 88,\n",
       "      'height': 88},\n",
       "     'medium': {'url': 'https://yt3.ggpht.com/ytc/AL5GRJUUlFKrYwjjCnGkmZSLHji3O5iLKd62XENM40wN6g=s240-c-k-c0x00ffffff-no-rj',\n",
       "      'width': 240,\n",
       "      'height': 240},\n",
       "     'high': {'url': 'https://yt3.ggpht.com/ytc/AL5GRJUUlFKrYwjjCnGkmZSLHji3O5iLKd62XENM40wN6g=s800-c-k-c0x00ffffff-no-rj',\n",
       "      'width': 800,\n",
       "      'height': 800}},\n",
       "    'localized': {'title': 'Tech Burner',\n",
       "     'description': 'Tech Videos that count!\\nJoin Us :)\\nBrands and Business : business@techburner.in\\n\\nThis Channel is owned by Burner Media owned by Shlok Srivastava.'},\n",
       "    'country': 'IN'},\n",
       "   'contentDetails': {'relatedPlaylists': {'likes': '',\n",
       "     'uploads': 'UUXUJJNoP1QupwsYIWFXmsZg'}},\n",
       "   'statistics': {'viewCount': '1557863273',\n",
       "    'subscriberCount': '10200000',\n",
       "    'hiddenSubscriberCount': False,\n",
       "    'videoCount': '1073'}},\n",
       "  {'kind': 'youtube#channel',\n",
       "   'etag': 'uGfeBZtt1apqIJGnanPFnWalpfM',\n",
       "   'id': 'UCMiJRAwDNSNzuYeN2uWa0pA',\n",
       "   'snippet': {'title': 'Mrwhosetheboss',\n",
       "    'description': \"📱 Newest cutting-edge tech - 🤑 Biggest, most exclusive unboxings - 🎁 Largest ever free giveaways - Subscribe so you don't miss it! \\n\\nI'm Arun Maini, I'm a 27 year old Economics graduate whose life's passion is Technology, and I'm on a mission to make the most FUN and USEFUL Tech videos on the Planet! 🙏\\n\\n\\n\\n\",\n",
       "    'customUrl': '@mrwhosetheboss',\n",
       "    'publishedAt': '2011-04-20T12:10:24Z',\n",
       "    'thumbnails': {'default': {'url': 'https://yt3.ggpht.com/Ikb1C4ih2VMvfjma8OO5b39JnHL2CQcQgksB_I7TM-gGA3ERTY589OeLKCYyRQQO0nkE54-f=s88-c-k-c0x00ffffff-no-rj',\n",
       "      'width': 88,\n",
       "      'height': 88},\n",
       "     'medium': {'url': 'https://yt3.ggpht.com/Ikb1C4ih2VMvfjma8OO5b39JnHL2CQcQgksB_I7TM-gGA3ERTY589OeLKCYyRQQO0nkE54-f=s240-c-k-c0x00ffffff-no-rj',\n",
       "      'width': 240,\n",
       "      'height': 240},\n",
       "     'high': {'url': 'https://yt3.ggpht.com/Ikb1C4ih2VMvfjma8OO5b39JnHL2CQcQgksB_I7TM-gGA3ERTY589OeLKCYyRQQO0nkE54-f=s800-c-k-c0x00ffffff-no-rj',\n",
       "      'width': 800,\n",
       "      'height': 800}},\n",
       "    'localized': {'title': 'Mrwhosetheboss',\n",
       "     'description': \"📱 Newest cutting-edge tech - 🤑 Biggest, most exclusive unboxings - 🎁 Largest ever free giveaways - Subscribe so you don't miss it! \\n\\nI'm Arun Maini, I'm a 27 year old Economics graduate whose life's passion is Technology, and I'm on a mission to make the most FUN and USEFUL Tech videos on the Planet! 🙏\\n\\n\\n\\n\"},\n",
       "    'country': 'GB'},\n",
       "   'contentDetails': {'relatedPlaylists': {'likes': '',\n",
       "     'uploads': 'UUMiJRAwDNSNzuYeN2uWa0pA'}},\n",
       "   'statistics': {'viewCount': '2807488978',\n",
       "    'subscriberCount': '13500000',\n",
       "    'hiddenSubscriberCount': False,\n",
       "    'videoCount': '1513'}},\n",
       "  {'kind': 'youtube#channel',\n",
       "   'etag': 'rdzc0hgHauJB4rKtvmcW9z7K-6M',\n",
       "   'id': 'UCCWi3hpnq_Pe03nGxuS7isg',\n",
       "   'snippet': {'title': 'CampusX',\n",
       "    'description': 'CampusX is an online platform to learn all things related to data. Apart from the YouTube channel where we provide content for free we also offer  Mentorship programs on topics like Data Science. The details of which you can find out on our website https://learnwith.campusx.in/\\n\\n            We believe that high-quality education is not just for the privileged few. It is the right of everyone who seeks it. Through our mentorship program, we aim to bring quality education to every single student at a very affordable price. A mentored student is provided with guidance on how to ace a technology through live and recorded video lectures, daily skill-building activities, projects, assignments, and interactions with industry experts. All we need from you is intent, and a ray of passion to learn.',\n",
       "    'customUrl': '@campusx-official',\n",
       "    'publishedAt': '2019-04-17T19:32:35Z',\n",
       "    'thumbnails': {'default': {'url': 'https://yt3.ggpht.com/ytc/AL5GRJX92tJbOWMXHc_mICG5nHp4ov6ymGkFOaauwTATaw=s88-c-k-c0x00ffffff-no-rj',\n",
       "      'width': 88,\n",
       "      'height': 88},\n",
       "     'medium': {'url': 'https://yt3.ggpht.com/ytc/AL5GRJX92tJbOWMXHc_mICG5nHp4ov6ymGkFOaauwTATaw=s240-c-k-c0x00ffffff-no-rj',\n",
       "      'width': 240,\n",
       "      'height': 240},\n",
       "     'high': {'url': 'https://yt3.ggpht.com/ytc/AL5GRJX92tJbOWMXHc_mICG5nHp4ov6ymGkFOaauwTATaw=s800-c-k-c0x00ffffff-no-rj',\n",
       "      'width': 800,\n",
       "      'height': 800}},\n",
       "    'localized': {'title': 'CampusX',\n",
       "     'description': 'CampusX is an online platform to learn all things related to data. Apart from the YouTube channel where we provide content for free we also offer  Mentorship programs on topics like Data Science. The details of which you can find out on our website https://learnwith.campusx.in/\\n\\n            We believe that high-quality education is not just for the privileged few. It is the right of everyone who seeks it. Through our mentorship program, we aim to bring quality education to every single student at a very affordable price. A mentored student is provided with guidance on how to ace a technology through live and recorded video lectures, daily skill-building activities, projects, assignments, and interactions with industry experts. All we need from you is intent, and a ray of passion to learn.'},\n",
       "    'country': 'IN'},\n",
       "   'contentDetails': {'relatedPlaylists': {'likes': '',\n",
       "     'uploads': 'UUCWi3hpnq_Pe03nGxuS7isg'}},\n",
       "   'statistics': {'viewCount': '6326709',\n",
       "    'subscriberCount': '70900',\n",
       "    'hiddenSubscriberCount': False,\n",
       "    'videoCount': '1015'}},\n",
       "  {'kind': 'youtube#channel',\n",
       "   'etag': 'UBfSDesWwwHixWWE3QMQI67PXU0',\n",
       "   'id': 'UCdp6UknWLGfXTo4XYEVib0Q',\n",
       "   'snippet': {'title': 'VentzTV',\n",
       "    'description': '“Win in Silence, let them think you’re losing.”',\n",
       "    'customUrl': '@ventztv',\n",
       "    'publishedAt': '2017-01-07T11:44:26Z',\n",
       "    'thumbnails': {'default': {'url': 'https://yt3.ggpht.com/ytc/AL5GRJV5HAXCNCtKFj3oIvSsh2927eSVqNYOWal0x_jL=s88-c-k-c0x00ffffff-no-rj',\n",
       "      'width': 88,\n",
       "      'height': 88},\n",
       "     'medium': {'url': 'https://yt3.ggpht.com/ytc/AL5GRJV5HAXCNCtKFj3oIvSsh2927eSVqNYOWal0x_jL=s240-c-k-c0x00ffffff-no-rj',\n",
       "      'width': 240,\n",
       "      'height': 240},\n",
       "     'high': {'url': 'https://yt3.ggpht.com/ytc/AL5GRJV5HAXCNCtKFj3oIvSsh2927eSVqNYOWal0x_jL=s800-c-k-c0x00ffffff-no-rj',\n",
       "      'width': 800,\n",
       "      'height': 800}},\n",
       "    'localized': {'title': 'VentzTV',\n",
       "     'description': '“Win in Silence, let them think you’re losing.”'},\n",
       "    'country': 'ID'},\n",
       "   'contentDetails': {'relatedPlaylists': {'likes': '',\n",
       "     'uploads': 'UUdp6UknWLGfXTo4XYEVib0Q'}},\n",
       "   'statistics': {'viewCount': '33883365',\n",
       "    'subscriberCount': '192000',\n",
       "    'hiddenSubscriberCount': False,\n",
       "    'videoCount': '368'}}]}"
      ]
     },
     "execution_count": 41,
     "metadata": {},
     "output_type": "execute_result"
    }
   ],
   "source": [
    "request = youtube.channels().list(\n",
    "        part=\"snippet,contentDetails,statistics\",\n",
    "        id=\",\".join(channel_id)\n",
    "    )\n",
    "response= request.execute()\n",
    "response"
   ]
  },
  {
   "cell_type": "code",
   "execution_count": 6,
   "id": "8a1ae47d",
   "metadata": {},
   "outputs": [],
   "source": [
    "def Extract_chanel_details(youtube,channel_id):\n",
    "    all_data = []\n",
    "    request = youtube.channels().list(\n",
    "        part=\"snippet,contentDetails,statistics\",\n",
    "        id=\",\".join(channel_id)\n",
    "    )\n",
    "    response= request.execute()# this will returna dictionary \n",
    "    for i in range(len(response['items'])):\n",
    "        data = dict(Channel_name = response['items'][i]['snippet']['title'],\n",
    "               Subscribers = response['items'][i]['statistics'][\"subscriberCount\"],\n",
    "               Views= response['items'][i]['statistics']['viewCount'],\n",
    "               TotalVideos= response['items'][i]['statistics']['videoCount'],\n",
    "                Playlist_id = response['items'][i]['contentDetails']['relatedPlaylists']['uploads'],\n",
    "                )\n",
    "        all_data.append(data)\n",
    "    return all_data"
   ]
  },
  {
   "cell_type": "code",
   "execution_count": 7,
   "id": "b3043e0b",
   "metadata": {
    "scrolled": true
   },
   "outputs": [
    {
     "data": {
      "text/plain": [
       "[{'Channel_name': 'CampusX',\n",
       "  'Subscribers': '70900',\n",
       "  'Views': '6326709',\n",
       "  'TotalVideos': '1015',\n",
       "  'Playlist_id': 'UUCWi3hpnq_Pe03nGxuS7isg'},\n",
       " {'Channel_name': 'VentzTV',\n",
       "  'Subscribers': '192000',\n",
       "  'Views': '33883365',\n",
       "  'TotalVideos': '368',\n",
       "  'Playlist_id': 'UUdp6UknWLGfXTo4XYEVib0Q'},\n",
       " {'Channel_name': 'Tech Burner',\n",
       "  'Subscribers': '10200000',\n",
       "  'Views': '1557863273',\n",
       "  'TotalVideos': '1072',\n",
       "  'Playlist_id': 'UUXUJJNoP1QupwsYIWFXmsZg'},\n",
       " {'Channel_name': 'Mrwhosetheboss',\n",
       "  'Subscribers': '13500000',\n",
       "  'Views': '2807488978',\n",
       "  'TotalVideos': '1513',\n",
       "  'Playlist_id': 'UUMiJRAwDNSNzuYeN2uWa0pA'}]"
      ]
     },
     "execution_count": 7,
     "metadata": {},
     "output_type": "execute_result"
    }
   ],
   "source": [
    "Extract_chanel_details(youtube,channel_id)"
   ]
  },
  {
   "cell_type": "code",
   "execution_count": 8,
   "id": "9fa2d46c",
   "metadata": {},
   "outputs": [],
   "source": [
    "channel_data = pd.DataFrame(Extract_chanel_details(youtube,channel_id))"
   ]
  },
  {
   "cell_type": "code",
   "execution_count": 9,
   "id": "011eae76",
   "metadata": {},
   "outputs": [],
   "source": [
    "channel_data.Subscribers = channel_data.Subscribers.astype(np.int32)\n",
    "channel_data.Views = channel_data.Views.astype(np.int64)\n",
    "channel_data.TotalVideos = channel_data.TotalVideos.astype(np.int32)"
   ]
  },
  {
   "cell_type": "code",
   "execution_count": 10,
   "id": "431ec875",
   "metadata": {},
   "outputs": [
    {
     "data": {
      "text/plain": [
       "Channel_name    object\n",
       "Subscribers      int32\n",
       "Views            int64\n",
       "TotalVideos      int32\n",
       "Playlist_id     object\n",
       "dtype: object"
      ]
     },
     "execution_count": 10,
     "metadata": {},
     "output_type": "execute_result"
    }
   ],
   "source": [
    "channel_data.dtypes"
   ]
  },
  {
   "cell_type": "code",
   "execution_count": 11,
   "id": "16bf8e19",
   "metadata": {},
   "outputs": [
    {
     "data": {
      "text/html": [
       "<div>\n",
       "<style scoped>\n",
       "    .dataframe tbody tr th:only-of-type {\n",
       "        vertical-align: middle;\n",
       "    }\n",
       "\n",
       "    .dataframe tbody tr th {\n",
       "        vertical-align: top;\n",
       "    }\n",
       "\n",
       "    .dataframe thead th {\n",
       "        text-align: right;\n",
       "    }\n",
       "</style>\n",
       "<table border=\"1\" class=\"dataframe\">\n",
       "  <thead>\n",
       "    <tr style=\"text-align: right;\">\n",
       "      <th></th>\n",
       "      <th>Channel_name</th>\n",
       "      <th>Subscribers</th>\n",
       "      <th>Views</th>\n",
       "      <th>TotalVideos</th>\n",
       "      <th>Playlist_id</th>\n",
       "    </tr>\n",
       "  </thead>\n",
       "  <tbody>\n",
       "    <tr>\n",
       "      <th>0</th>\n",
       "      <td>CampusX</td>\n",
       "      <td>70900</td>\n",
       "      <td>6326709</td>\n",
       "      <td>1015</td>\n",
       "      <td>UUCWi3hpnq_Pe03nGxuS7isg</td>\n",
       "    </tr>\n",
       "    <tr>\n",
       "      <th>1</th>\n",
       "      <td>VentzTV</td>\n",
       "      <td>192000</td>\n",
       "      <td>33883365</td>\n",
       "      <td>368</td>\n",
       "      <td>UUdp6UknWLGfXTo4XYEVib0Q</td>\n",
       "    </tr>\n",
       "    <tr>\n",
       "      <th>2</th>\n",
       "      <td>Mrwhosetheboss</td>\n",
       "      <td>13500000</td>\n",
       "      <td>2807488978</td>\n",
       "      <td>1513</td>\n",
       "      <td>UUMiJRAwDNSNzuYeN2uWa0pA</td>\n",
       "    </tr>\n",
       "    <tr>\n",
       "      <th>3</th>\n",
       "      <td>Tech Burner</td>\n",
       "      <td>10200000</td>\n",
       "      <td>1557863273</td>\n",
       "      <td>1072</td>\n",
       "      <td>UUXUJJNoP1QupwsYIWFXmsZg</td>\n",
       "    </tr>\n",
       "  </tbody>\n",
       "</table>\n",
       "</div>"
      ],
      "text/plain": [
       "     Channel_name  Subscribers       Views  TotalVideos  \\\n",
       "0         CampusX        70900     6326709         1015   \n",
       "1         VentzTV       192000    33883365          368   \n",
       "2  Mrwhosetheboss     13500000  2807488978         1513   \n",
       "3     Tech Burner     10200000  1557863273         1072   \n",
       "\n",
       "                Playlist_id  \n",
       "0  UUCWi3hpnq_Pe03nGxuS7isg  \n",
       "1  UUdp6UknWLGfXTo4XYEVib0Q  \n",
       "2  UUMiJRAwDNSNzuYeN2uWa0pA  \n",
       "3  UUXUJJNoP1QupwsYIWFXmsZg  "
      ]
     },
     "execution_count": 11,
     "metadata": {},
     "output_type": "execute_result"
    }
   ],
   "source": [
    "channel_data"
   ]
  },
  {
   "cell_type": "code",
   "execution_count": 12,
   "id": "ea8138a8",
   "metadata": {},
   "outputs": [
    {
     "name": "stdout",
     "output_type": "stream",
     "text": [
      "<class 'pandas.core.frame.DataFrame'>\n",
      "RangeIndex: 4 entries, 0 to 3\n",
      "Data columns (total 5 columns):\n",
      " #   Column        Non-Null Count  Dtype \n",
      "---  ------        --------------  ----- \n",
      " 0   Channel_name  4 non-null      object\n",
      " 1   Subscribers   4 non-null      int32 \n",
      " 2   Views         4 non-null      int64 \n",
      " 3   TotalVideos   4 non-null      int32 \n",
      " 4   Playlist_id   4 non-null      object\n",
      "dtypes: int32(2), int64(1), object(2)\n",
      "memory usage: 256.0+ bytes\n"
     ]
    }
   ],
   "source": [
    "channel_data.info()"
   ]
  },
  {
   "cell_type": "code",
   "execution_count": 13,
   "id": "30aad99d",
   "metadata": {},
   "outputs": [
    {
     "data": {
      "text/html": [
       "<div>\n",
       "<style scoped>\n",
       "    .dataframe tbody tr th:only-of-type {\n",
       "        vertical-align: middle;\n",
       "    }\n",
       "\n",
       "    .dataframe tbody tr th {\n",
       "        vertical-align: top;\n",
       "    }\n",
       "\n",
       "    .dataframe thead th {\n",
       "        text-align: right;\n",
       "    }\n",
       "</style>\n",
       "<table border=\"1\" class=\"dataframe\">\n",
       "  <thead>\n",
       "    <tr style=\"text-align: right;\">\n",
       "      <th></th>\n",
       "      <th>Subscribers</th>\n",
       "      <th>Views</th>\n",
       "      <th>TotalVideos</th>\n",
       "    </tr>\n",
       "  </thead>\n",
       "  <tbody>\n",
       "    <tr>\n",
       "      <th>count</th>\n",
       "      <td>4.000000e+00</td>\n",
       "      <td>4.000000e+00</td>\n",
       "      <td>4.000000</td>\n",
       "    </tr>\n",
       "    <tr>\n",
       "      <th>mean</th>\n",
       "      <td>5.990725e+06</td>\n",
       "      <td>1.101391e+09</td>\n",
       "      <td>992.000000</td>\n",
       "    </tr>\n",
       "    <tr>\n",
       "      <th>std</th>\n",
       "      <td>6.898714e+06</td>\n",
       "      <td>1.348811e+09</td>\n",
       "      <td>471.785968</td>\n",
       "    </tr>\n",
       "    <tr>\n",
       "      <th>min</th>\n",
       "      <td>7.090000e+04</td>\n",
       "      <td>6.326709e+06</td>\n",
       "      <td>368.000000</td>\n",
       "    </tr>\n",
       "    <tr>\n",
       "      <th>25%</th>\n",
       "      <td>1.617250e+05</td>\n",
       "      <td>2.699420e+07</td>\n",
       "      <td>853.250000</td>\n",
       "    </tr>\n",
       "    <tr>\n",
       "      <th>50%</th>\n",
       "      <td>5.196000e+06</td>\n",
       "      <td>7.958733e+08</td>\n",
       "      <td>1043.500000</td>\n",
       "    </tr>\n",
       "    <tr>\n",
       "      <th>75%</th>\n",
       "      <td>1.102500e+07</td>\n",
       "      <td>1.870270e+09</td>\n",
       "      <td>1182.250000</td>\n",
       "    </tr>\n",
       "    <tr>\n",
       "      <th>max</th>\n",
       "      <td>1.350000e+07</td>\n",
       "      <td>2.807489e+09</td>\n",
       "      <td>1513.000000</td>\n",
       "    </tr>\n",
       "  </tbody>\n",
       "</table>\n",
       "</div>"
      ],
      "text/plain": [
       "        Subscribers         Views  TotalVideos\n",
       "count  4.000000e+00  4.000000e+00     4.000000\n",
       "mean   5.990725e+06  1.101391e+09   992.000000\n",
       "std    6.898714e+06  1.348811e+09   471.785968\n",
       "min    7.090000e+04  6.326709e+06   368.000000\n",
       "25%    1.617250e+05  2.699420e+07   853.250000\n",
       "50%    5.196000e+06  7.958733e+08  1043.500000\n",
       "75%    1.102500e+07  1.870270e+09  1182.250000\n",
       "max    1.350000e+07  2.807489e+09  1513.000000"
      ]
     },
     "execution_count": 13,
     "metadata": {},
     "output_type": "execute_result"
    }
   ],
   "source": [
    "channel_data.describe()"
   ]
  },
  {
   "cell_type": "code",
   "execution_count": 14,
   "id": "a8ed69a4",
   "metadata": {},
   "outputs": [
    {
     "data": {
      "text/plain": [
       "<AxesSubplot:xlabel='Channel_name', ylabel='Views'>"
      ]
     },
     "execution_count": 14,
     "metadata": {},
     "output_type": "execute_result"
    },
    {
     "data": {
      "image/png": "[encoded data removed]",
      "text/plain": [
       "<Figure size 432x288 with 1 Axes>"
      ]
     },
     "metadata": {
      "needs_background": "light"
     },
     "output_type": "display_data"
    }
   ],
   "source": [
    "sns.barplot(data=channel_data, x=channel_data['Channel_name'], y = channel_data['Views'])"
   ]
  },
  {
   "cell_type": "code",
   "execution_count": 15,
   "id": "682e24ee",
   "metadata": {},
   "outputs": [
    {
     "data": {
      "text/plain": [
       "(0.0, 1.0)"
      ]
     },
     "execution_count": 15,
     "metadata": {},
     "output_type": "execute_result"
    },
    {
     "data": {
      "image/png": "[encoded data removed]",
      "text/plain": [
       "<Figure size 432x288 with 1 Axes>"
      ]
     },
     "metadata": {
      "needs_background": "light"
     },
     "output_type": "display_data"
    }
   ],
   "source": [
    "import matplotlib.pyplot as plt\n",
    "plt.ylim(0, 1)"
   ]
  },
  {
   "cell_type": "code",
   "execution_count": 16,
   "id": "7f992370",
   "metadata": {},
   "outputs": [
    {
     "data": {
      "text/plain": [
       "(0.0, 1000000.0)"
      ]
     },
     "execution_count": 16,
     "metadata": {},
     "output_type": "execute_result"
    },
    {
     "data": {
      "image/png": "[encoded data removed]",
      "text/plain": [
       "<Figure size 432x288 with 1 Axes>"
      ]
     },
     "metadata": {
      "needs_background": "light"
     },
     "output_type": "display_data"
    }
   ],
   "source": [
    "sns.barplot(data=channel_data, x=channel_data['Channel_name'], y = channel_data['Subscribers'])\n",
    "plt.ylim(0, 1000000)"
   ]
  },
  {
   "cell_type": "code",
   "execution_count": 17,
   "id": "82e07e9e",
   "metadata": {},
   "outputs": [],
   "source": [
    "ids_playlist = list(channel_data['Playlist_id'].values)[0]"
   ]
  },
  {
   "cell_type": "code",
   "execution_count": 18,
   "id": "e86eedc1",
   "metadata": {},
   "outputs": [
    {
     "data": {
      "text/plain": [
       "'UUCWi3hpnq_Pe03nGxuS7isg'"
      ]
     },
     "execution_count": 18,
     "metadata": {},
     "output_type": "execute_result"
    }
   ],
   "source": [
    "ids_playlist"
   ]
  },
  {
   "cell_type": "code",
   "execution_count": 19,
   "id": "edc92ca0",
   "metadata": {},
   "outputs": [],
   "source": [
    "#Video id \n",
    "def func_get_vid_id(youtube , playlist_id):\n",
    "    \"\"\" Getting the video ids\"\"\"\n",
    "    \n",
    "    request = youtube.playlistItems().list(\n",
    "        part=\"contentDetails\",\n",
    "        maxResults = 50,\n",
    "        playlistId=playlist_id\n",
    "    )\n",
    "    response = request.execute()\n",
    "    \n",
    "    all_vid_id = []\n",
    "    for i in range(len(response['items'])):\n",
    "        ids = response['items'][i]['contentDetails']['videoId']\n",
    "        all_vid_id.append(ids)\n",
    "        \n",
    "    # this is for getting every video_id by checking if there is next page token or not\n",
    "    nxt_page_token = response.get('nextPageToken')\n",
    "    # if the value is present thenit will return the key otherwise just an nnone type obj\n",
    "    more_page = True\n",
    "    while more_page:\n",
    "        if nxt_page_token is None:\n",
    "            more_page = False\n",
    "        else:\n",
    "            request = youtube.playlistItems().list(part=\"contentDetails\",maxResults = 50,\n",
    "                                                   playlistId=playlist_id,\n",
    "                                                   pageToken=nxt_page_token)\n",
    "                                                                        # to go to next page via this token\n",
    "            response = request.execute()\n",
    "    \n",
    "            for i in range(len(response['items'])):\n",
    "                all_vid_id.append(response['items'][i]['contentDetails']['videoId'])\n",
    "                \n",
    "            # to change the next pagetoken again \n",
    "            nxt_page_token = response.get('nextPageToken')\n",
    "    \n",
    "    return all_vid_id"
   ]
  },
  {
   "cell_type": "code",
   "execution_count": 20,
   "id": "6928adf9",
   "metadata": {},
   "outputs": [],
   "source": [
    "video_ids = func_get_vid_id(youtube,ids_playlist)"
   ]
  },
  {
   "cell_type": "code",
   "execution_count": 21,
   "id": "1760bf43",
   "metadata": {},
   "outputs": [
    {
     "data": {
      "text/plain": [
       "['YgizUxmBFK8', '3LJ-yWBQBGs', 'YYq47MN3TZI', 's6xAVqYdmJ4', 'nsKcmOly0UY']"
      ]
     },
     "execution_count": 21,
     "metadata": {},
     "output_type": "execute_result"
    }
   ],
   "source": [
    "video_ids[:5]"
   ]
  },
  {
   "cell_type": "code",
   "execution_count": 22,
   "id": "f494b347",
   "metadata": {},
   "outputs": [],
   "source": [
    "# Geting the video details by using there id\n",
    "def vid_details(youtube,video_ids):\n",
    "    \"\"\"Getting the video detail for every video in a channel\"\"\"\n",
    "    all_vid_stats=[]\n",
    "    for i in range(0,len(video_ids),50):\n",
    "        request = youtube.videos().list(\n",
    "            part=\"snippet,contentDetails,statistics\",\n",
    "            id=\",\".join(video_ids[i:i+50]) # 50 bcz max item to be fetched is 50 \n",
    "        )\n",
    "        response = request.execute()\n",
    "        \n",
    "        for video in response['items']:\n",
    "            vid_stats = dict(Vid_title = video['snippet']['title'],\n",
    "                            Published_date = video['snippet'][\"publishedAt\"],\n",
    "                            Vid_views = video['statistics']['viewCount'],\n",
    "                            vid_likes = video['statistics'][\"likeCount\"],\n",
    "                            vid_comments = video['statistics'][\"commentCount\"],\n",
    "                            VideoDuration = video['contentDetails']['duration'])\n",
    "            \n",
    "            all_vid_stats.append(vid_stats)\n",
    "        \n",
    "        \n",
    "    return all_vid_stats"
   ]
  },
  {
   "cell_type": "code",
   "execution_count": 23,
   "id": "8485f171",
   "metadata": {},
   "outputs": [],
   "source": [
    "vid_details = vid_details(youtube,video_ids)"
   ]
  },
  {
   "cell_type": "code",
   "execution_count": 24,
   "id": "7467ebb9",
   "metadata": {},
   "outputs": [],
   "source": [
    "video_data = pd.DataFrame(vid_details)"
   ]
  },
  {
   "cell_type": "code",
   "execution_count": 25,
   "id": "f61c404a",
   "metadata": {},
   "outputs": [
    {
     "data": {
      "text/html": [
       "<div>\n",
       "<style scoped>\n",
       "    .dataframe tbody tr th:only-of-type {\n",
       "        vertical-align: middle;\n",
       "    }\n",
       "\n",
       "    .dataframe tbody tr th {\n",
       "        vertical-align: top;\n",
       "    }\n",
       "\n",
       "    .dataframe thead th {\n",
       "        text-align: right;\n",
       "    }\n",
       "</style>\n",
       "<table border=\"1\" class=\"dataframe\">\n",
       "  <thead>\n",
       "    <tr style=\"text-align: right;\">\n",
       "      <th></th>\n",
       "      <th>Vid_title</th>\n",
       "      <th>Published_date</th>\n",
       "      <th>Vid_views</th>\n",
       "      <th>vid_likes</th>\n",
       "      <th>vid_comments</th>\n",
       "      <th>VideoDuration</th>\n",
       "    </tr>\n",
       "  </thead>\n",
       "  <tbody>\n",
       "    <tr>\n",
       "      <th>0</th>\n",
       "      <td>Window Functions Part 2 | SQL Tutorials</td>\n",
       "      <td>2023-03-01T14:30:10Z</td>\n",
       "      <td>1275</td>\n",
       "      <td>79</td>\n",
       "      <td>11</td>\n",
       "      <td>PT47M11S</td>\n",
       "    </tr>\n",
       "    <tr>\n",
       "      <th>1</th>\n",
       "      <td>Session 36 - Window Functions in SQL | DSMP 2023</td>\n",
       "      <td>2023-02-28T04:17:30Z</td>\n",
       "      <td>3328</td>\n",
       "      <td>158</td>\n",
       "      <td>7</td>\n",
       "      <td>PT1H40M5S</td>\n",
       "    </tr>\n",
       "    <tr>\n",
       "      <th>2</th>\n",
       "      <td>Session 35 - Subqueries in SQL | DSMP 2023</td>\n",
       "      <td>2023-02-23T16:57:23Z</td>\n",
       "      <td>4360</td>\n",
       "      <td>164</td>\n",
       "      <td>11</td>\n",
       "      <td>PT2H18M27S</td>\n",
       "    </tr>\n",
       "    <tr>\n",
       "      <th>3</th>\n",
       "      <td>Session 34 - SQL Joins| DSMP 2023</td>\n",
       "      <td>2023-02-20T16:52:52Z</td>\n",
       "      <td>5319</td>\n",
       "      <td>179</td>\n",
       "      <td>9</td>\n",
       "      <td>PT2H10M29S</td>\n",
       "    </tr>\n",
       "    <tr>\n",
       "      <th>4</th>\n",
       "      <td>Session 33 - SQL Grouping + Sorting | DSMP 2023</td>\n",
       "      <td>2023-02-15T16:46:22Z</td>\n",
       "      <td>5333</td>\n",
       "      <td>187</td>\n",
       "      <td>7</td>\n",
       "      <td>PT2H5M28S</td>\n",
       "    </tr>\n",
       "  </tbody>\n",
       "</table>\n",
       "</div>"
      ],
      "text/plain": [
       "                                          Vid_title        Published_date  \\\n",
       "0           Window Functions Part 2 | SQL Tutorials  2023-03-01T14:30:10Z   \n",
       "1  Session 36 - Window Functions in SQL | DSMP 2023  2023-02-28T04:17:30Z   \n",
       "2        Session 35 - Subqueries in SQL | DSMP 2023  2023-02-23T16:57:23Z   \n",
       "3                 Session 34 - SQL Joins| DSMP 2023  2023-02-20T16:52:52Z   \n",
       "4   Session 33 - SQL Grouping + Sorting | DSMP 2023  2023-02-15T16:46:22Z   \n",
       "\n",
       "  Vid_views vid_likes vid_comments VideoDuration  \n",
       "0      1275        79           11      PT47M11S  \n",
       "1      3328       158            7     PT1H40M5S  \n",
       "2      4360       164           11    PT2H18M27S  \n",
       "3      5319       179            9    PT2H10M29S  \n",
       "4      5333       187            7     PT2H5M28S  "
      ]
     },
     "execution_count": 25,
     "metadata": {},
     "output_type": "execute_result"
    }
   ],
   "source": [
    "video_data.head()"
   ]
  },
  {
   "cell_type": "code",
   "execution_count": 57,
   "id": "a8ef2cd1",
   "metadata": {},
   "outputs": [
    {
     "data": {
      "text/plain": [
       "(968, 7)"
      ]
     },
     "execution_count": 57,
     "metadata": {},
     "output_type": "execute_result"
    }
   ],
   "source": [
    "video_data.shape"
   ]
  },
  {
   "cell_type": "code",
   "execution_count": 26,
   "id": "3c149abb",
   "metadata": {},
   "outputs": [
    {
     "name": "stdout",
     "output_type": "stream",
     "text": [
      "<class 'pandas.core.frame.DataFrame'>\n",
      "RangeIndex: 968 entries, 0 to 967\n",
      "Data columns (total 6 columns):\n",
      " #   Column          Non-Null Count  Dtype \n",
      "---  ------          --------------  ----- \n",
      " 0   Vid_title       968 non-null    object\n",
      " 1   Published_date  968 non-null    object\n",
      " 2   Vid_views       968 non-null    object\n",
      " 3   vid_likes       968 non-null    object\n",
      " 4   vid_comments    968 non-null    object\n",
      " 5   VideoDuration   968 non-null    object\n",
      "dtypes: object(6)\n",
      "memory usage: 45.5+ KB\n"
     ]
    }
   ],
   "source": [
    "video_data.info()"
   ]
  },
  {
   "cell_type": "code",
   "execution_count": 27,
   "id": "0d52187d",
   "metadata": {},
   "outputs": [],
   "source": [
    "video_data['vid_comments'] = video_data.vid_comments.astype(np.int32)\n",
    "video_data['Vid_views'] = video_data.Vid_views.astype(np.int64)\n",
    "video_data['vid_likes'] = video_data.vid_likes.astype(np.int32)\n",
    "video_data['Published_date'] = pd.to_datetime(video_data['Published_date'])"
   ]
  },
  {
   "cell_type": "code",
   "execution_count": 28,
   "id": "fa260335",
   "metadata": {},
   "outputs": [
    {
     "data": {
      "text/html": [
       "<div>\n",
       "<style scoped>\n",
       "    .dataframe tbody tr th:only-of-type {\n",
       "        vertical-align: middle;\n",
       "    }\n",
       "\n",
       "    .dataframe tbody tr th {\n",
       "        vertical-align: top;\n",
       "    }\n",
       "\n",
       "    .dataframe thead th {\n",
       "        text-align: right;\n",
       "    }\n",
       "</style>\n",
       "<table border=\"1\" class=\"dataframe\">\n",
       "  <thead>\n",
       "    <tr style=\"text-align: right;\">\n",
       "      <th></th>\n",
       "      <th>Vid_views</th>\n",
       "      <th>vid_likes</th>\n",
       "      <th>vid_comments</th>\n",
       "    </tr>\n",
       "  </thead>\n",
       "  <tbody>\n",
       "    <tr>\n",
       "      <th>count</th>\n",
       "      <td>968.000000</td>\n",
       "      <td>968.000000</td>\n",
       "      <td>968.000000</td>\n",
       "    </tr>\n",
       "    <tr>\n",
       "      <th>mean</th>\n",
       "      <td>6523.002066</td>\n",
       "      <td>224.551653</td>\n",
       "      <td>18.917355</td>\n",
       "    </tr>\n",
       "    <tr>\n",
       "      <th>std</th>\n",
       "      <td>17164.539442</td>\n",
       "      <td>444.910608</td>\n",
       "      <td>42.893116</td>\n",
       "    </tr>\n",
       "    <tr>\n",
       "      <th>min</th>\n",
       "      <td>4.000000</td>\n",
       "      <td>0.000000</td>\n",
       "      <td>0.000000</td>\n",
       "    </tr>\n",
       "    <tr>\n",
       "      <th>25%</th>\n",
       "      <td>301.750000</td>\n",
       "      <td>6.000000</td>\n",
       "      <td>0.000000</td>\n",
       "    </tr>\n",
       "    <tr>\n",
       "      <th>50%</th>\n",
       "      <td>2367.500000</td>\n",
       "      <td>67.000000</td>\n",
       "      <td>5.000000</td>\n",
       "    </tr>\n",
       "    <tr>\n",
       "      <th>75%</th>\n",
       "      <td>7362.000000</td>\n",
       "      <td>274.250000</td>\n",
       "      <td>21.000000</td>\n",
       "    </tr>\n",
       "    <tr>\n",
       "      <th>max</th>\n",
       "      <td>396015.000000</td>\n",
       "      <td>8156.000000</td>\n",
       "      <td>643.000000</td>\n",
       "    </tr>\n",
       "  </tbody>\n",
       "</table>\n",
       "</div>"
      ],
      "text/plain": [
       "           Vid_views    vid_likes  vid_comments\n",
       "count     968.000000   968.000000    968.000000\n",
       "mean     6523.002066   224.551653     18.917355\n",
       "std     17164.539442   444.910608     42.893116\n",
       "min         4.000000     0.000000      0.000000\n",
       "25%       301.750000     6.000000      0.000000\n",
       "50%      2367.500000    67.000000      5.000000\n",
       "75%      7362.000000   274.250000     21.000000\n",
       "max    396015.000000  8156.000000    643.000000"
      ]
     },
     "execution_count": 28,
     "metadata": {},
     "output_type": "execute_result"
    }
   ],
   "source": [
    "video_data.describe()"
   ]
  },
  {
   "cell_type": "code",
   "execution_count": 29,
   "id": "a8425c5c",
   "metadata": {},
   "outputs": [],
   "source": [
    "video_data['Month']=video_data.Published_date.dt.month_name()"
   ]
  },
  {
   "cell_type": "code",
   "execution_count": null,
   "id": "8afeed4c",
   "metadata": {},
   "outputs": [],
   "source": [
    "import matplotlib.pyplot as plt"
   ]
  },
  {
   "cell_type": "code",
   "execution_count": 59,
   "id": "42ddd245",
   "metadata": {},
   "outputs": [],
   "source": [
    "video_data['Year']= video_data.Published_date.dt.year"
   ]
  },
  {
   "cell_type": "code",
   "execution_count": 60,
   "id": "a192f60a",
   "metadata": {},
   "outputs": [
    {
     "data": {
      "text/plain": [
       "(array([2018.5, 2019. , 2019.5, 2020. , 2020.5, 2021. , 2021.5, 2022. ,\n",
       "        2022.5, 2023. , 2023.5]),\n",
       " [Text(2018.5, 0, '2018.5'),\n",
       "  Text(2019.0, 0, '2019.0'),\n",
       "  Text(2019.5, 0, '2019.5'),\n",
       "  Text(2020.0, 0, '2020.0'),\n",
       "  Text(2020.5, 0, '2020.5'),\n",
       "  Text(2021.0, 0, '2021.0'),\n",
       "  Text(2021.5, 0, '2021.5'),\n",
       "  Text(2022.0, 0, '2022.0'),\n",
       "  Text(2022.5, 0, '2022.5'),\n",
       "  Text(2023.0, 0, '2023.0'),\n",
       "  Text(2023.5, 0, '2023.5')])"
      ]
     },
     "execution_count": 60,
     "metadata": {},
     "output_type": "execute_result"
    },
    {
     "data": {
      "image/png": "[encoded data removed]",
      "text/plain": [
       "<Figure size 360x360 with 1 Axes>"
      ]
     },
     "metadata": {
      "needs_background": "light"
     },
     "output_type": "display_data"
    }
   ],
   "source": [
    "sns.relplot(data = video_data,x=video_data.Year , y = video_data.Vid_views,kind='line')\n",
    "plt.xticks(rotation = 90)"
   ]
  },
  {
   "cell_type": "code",
   "execution_count": null,
   "id": "5fca86b8",
   "metadata": {},
   "outputs": [],
   "source": []
  },
  {
   "cell_type": "code",
   "execution_count": 63,
   "id": "7b40e4ac",
   "metadata": {},
   "outputs": [
    {
     "data": {
      "text/plain": [
       "(array([2018.5, 2019. , 2019.5, 2020. , 2020.5, 2021. , 2021.5, 2022. ,\n",
       "        2022.5, 2023. , 2023.5]),\n",
       " [Text(0, 0, ''),\n",
       "  Text(0, 0, ''),\n",
       "  Text(0, 0, ''),\n",
       "  Text(0, 0, ''),\n",
       "  Text(0, 0, ''),\n",
       "  Text(0, 0, ''),\n",
       "  Text(0, 0, ''),\n",
       "  Text(0, 0, ''),\n",
       "  Text(0, 0, ''),\n",
       "  Text(0, 0, ''),\n",
       "  Text(0, 0, '')])"
      ]
     },
     "execution_count": 63,
     "metadata": {},
     "output_type": "execute_result"
    },
    {
     "data": {
      "image/png": "[encoded data removed]",
      "text/plain": [
       "<Figure size 432x288 with 1 Axes>"
      ]
     },
     "metadata": {
      "needs_background": "light"
     },
     "output_type": "display_data"
    }
   ],
   "source": [
    "plt.plot(video_data.Year,video_data.Vid_views)\n",
    "plt.xticks(rotation = 90)"
   ]
  },
  {
   "cell_type": "code",
   "execution_count": 32,
   "id": "02d53419",
   "metadata": {},
   "outputs": [],
   "source": [
    "top10videos = video_data.sort_values(by='Vid_views',ascending=False).head(10)"
   ]
  },
  {
   "cell_type": "code",
   "execution_count": 33,
   "id": "1b3c19ad",
   "metadata": {},
   "outputs": [
    {
     "data": {
      "text/html": [
       "<div>\n",
       "<style scoped>\n",
       "    .dataframe tbody tr th:only-of-type {\n",
       "        vertical-align: middle;\n",
       "    }\n",
       "\n",
       "    .dataframe tbody tr th {\n",
       "        vertical-align: top;\n",
       "    }\n",
       "\n",
       "    .dataframe thead th {\n",
       "        text-align: right;\n",
       "    }\n",
       "</style>\n",
       "<table border=\"1\" class=\"dataframe\">\n",
       "  <thead>\n",
       "    <tr style=\"text-align: right;\">\n",
       "      <th></th>\n",
       "      <th>Vid_title</th>\n",
       "      <th>Published_date</th>\n",
       "      <th>Vid_views</th>\n",
       "      <th>vid_likes</th>\n",
       "      <th>vid_comments</th>\n",
       "      <th>VideoDuration</th>\n",
       "      <th>Month</th>\n",
       "    </tr>\n",
       "  </thead>\n",
       "  <tbody>\n",
       "    <tr>\n",
       "      <th>274</th>\n",
       "      <td>Movie Recommender System Project | Content Bas...</td>\n",
       "      <td>2021-07-07 13:15:50+00:00</td>\n",
       "      <td>396015</td>\n",
       "      <td>8156</td>\n",
       "      <td>643</td>\n",
       "      <td>PT2H17M42S</td>\n",
       "      <td>July</td>\n",
       "    </tr>\n",
       "    <tr>\n",
       "      <th>394</th>\n",
       "      <td>What is Machine Learning? | 100 Days of Machin...</td>\n",
       "      <td>2021-03-13 16:15:53+00:00</td>\n",
       "      <td>158226</td>\n",
       "      <td>2157</td>\n",
       "      <td>127</td>\n",
       "      <td>PT20M</td>\n",
       "      <td>March</td>\n",
       "    </tr>\n",
       "    <tr>\n",
       "      <th>183</th>\n",
       "      <td>Complete OOP in Python in 1 Video | End to End...</td>\n",
       "      <td>2022-01-24 14:00:10+00:00</td>\n",
       "      <td>113992</td>\n",
       "      <td>2971</td>\n",
       "      <td>229</td>\n",
       "      <td>PT4H2M58S</td>\n",
       "      <td>January</td>\n",
       "    </tr>\n",
       "    <tr>\n",
       "      <th>211</th>\n",
       "      <td>Complete SQL Course For Data Science | SQL For...</td>\n",
       "      <td>2021-10-26 14:19:14+00:00</td>\n",
       "      <td>111772</td>\n",
       "      <td>3331</td>\n",
       "      <td>217</td>\n",
       "      <td>PT5H42M57S</td>\n",
       "      <td>October</td>\n",
       "    </tr>\n",
       "    <tr>\n",
       "      <th>404</th>\n",
       "      <td>Car Price Predictor Project | Machine Learning...</td>\n",
       "      <td>2021-01-02 04:25:30+00:00</td>\n",
       "      <td>106468</td>\n",
       "      <td>2004</td>\n",
       "      <td>185</td>\n",
       "      <td>PT1H21M12S</td>\n",
       "      <td>January</td>\n",
       "    </tr>\n",
       "    <tr>\n",
       "      <th>272</th>\n",
       "      <td>Email Spam Classifier | SMS Spam Classifier | ...</td>\n",
       "      <td>2021-07-10 14:29:46+00:00</td>\n",
       "      <td>85703</td>\n",
       "      <td>1758</td>\n",
       "      <td>235</td>\n",
       "      <td>PT1H39M39S</td>\n",
       "      <td>July</td>\n",
       "    </tr>\n",
       "    <tr>\n",
       "      <th>133</th>\n",
       "      <td>Book Recommender System | Machine Learning Pro...</td>\n",
       "      <td>2022-05-27 14:57:18+00:00</td>\n",
       "      <td>78750</td>\n",
       "      <td>1929</td>\n",
       "      <td>157</td>\n",
       "      <td>PT1H43M34S</td>\n",
       "      <td>May</td>\n",
       "    </tr>\n",
       "    <tr>\n",
       "      <th>225</th>\n",
       "      <td>8 Projects To Get A Data Science Job | Project...</td>\n",
       "      <td>2021-09-26 12:30:11+00:00</td>\n",
       "      <td>58212</td>\n",
       "      <td>2887</td>\n",
       "      <td>81</td>\n",
       "      <td>PT31M51S</td>\n",
       "      <td>September</td>\n",
       "    </tr>\n",
       "    <tr>\n",
       "      <th>883</th>\n",
       "      <td>Creating a Login and Registration system using...</td>\n",
       "      <td>2019-11-03 08:17:48+00:00</td>\n",
       "      <td>57018</td>\n",
       "      <td>1053</td>\n",
       "      <td>123</td>\n",
       "      <td>PT1H19M1S</td>\n",
       "      <td>November</td>\n",
       "    </tr>\n",
       "    <tr>\n",
       "      <th>402</th>\n",
       "      <td>Bangalore House Price Prediction | Regression ...</td>\n",
       "      <td>2021-01-03 18:56:03+00:00</td>\n",
       "      <td>55790</td>\n",
       "      <td>881</td>\n",
       "      <td>175</td>\n",
       "      <td>PT57M24S</td>\n",
       "      <td>January</td>\n",
       "    </tr>\n",
       "  </tbody>\n",
       "</table>\n",
       "</div>"
      ],
      "text/plain": [
       "                                             Vid_title  \\\n",
       "274  Movie Recommender System Project | Content Bas...   \n",
       "394  What is Machine Learning? | 100 Days of Machin...   \n",
       "183  Complete OOP in Python in 1 Video | End to End...   \n",
       "211  Complete SQL Course For Data Science | SQL For...   \n",
       "404  Car Price Predictor Project | Machine Learning...   \n",
       "272  Email Spam Classifier | SMS Spam Classifier | ...   \n",
       "133  Book Recommender System | Machine Learning Pro...   \n",
       "225  8 Projects To Get A Data Science Job | Project...   \n",
       "883  Creating a Login and Registration system using...   \n",
       "402  Bangalore House Price Prediction | Regression ...   \n",
       "\n",
       "               Published_date  Vid_views  vid_likes  vid_comments  \\\n",
       "274 2021-07-07 13:15:50+00:00     396015       8156           643   \n",
       "394 2021-03-13 16:15:53+00:00     158226       2157           127   \n",
       "183 2022-01-24 14:00:10+00:00     113992       2971           229   \n",
       "211 2021-10-26 14:19:14+00:00     111772       3331           217   \n",
       "404 2021-01-02 04:25:30+00:00     106468       2004           185   \n",
       "272 2021-07-10 14:29:46+00:00      85703       1758           235   \n",
       "133 2022-05-27 14:57:18+00:00      78750       1929           157   \n",
       "225 2021-09-26 12:30:11+00:00      58212       2887            81   \n",
       "883 2019-11-03 08:17:48+00:00      57018       1053           123   \n",
       "402 2021-01-03 18:56:03+00:00      55790        881           175   \n",
       "\n",
       "    VideoDuration      Month  \n",
       "274    PT2H17M42S       July  \n",
       "394         PT20M      March  \n",
       "183     PT4H2M58S    January  \n",
       "211    PT5H42M57S    October  \n",
       "404    PT1H21M12S    January  \n",
       "272    PT1H39M39S       July  \n",
       "133    PT1H43M34S        May  \n",
       "225      PT31M51S  September  \n",
       "883     PT1H19M1S   November  \n",
       "402      PT57M24S    January  "
      ]
     },
     "execution_count": 33,
     "metadata": {},
     "output_type": "execute_result"
    }
   ],
   "source": [
    "top10videos"
   ]
  },
  {
   "cell_type": "code",
   "execution_count": 34,
   "id": "85ec3885",
   "metadata": {},
   "outputs": [
    {
     "name": "stderr",
     "output_type": "stream",
     "text": [
      "C:\\Users\\mynam\\AppData\\Local\\Programs\\Python\\Python310\\lib\\site-packages\\seaborn\\axisgrid.py:88: UserWarning: Tight layout not applied. The left and right margins cannot be made large enough to accommodate all axes decorations.\n",
      "  self._figure.tight_layout(*args, **kwargs)\n"
     ]
    },
    {
     "data": {
      "text/plain": [
       "<seaborn.axisgrid.FacetGrid at 0x2d0d1b41f90>"
      ]
     },
     "execution_count": 34,
     "metadata": {},
     "output_type": "execute_result"
    },
    {
     "data": {
      "image/png": "[encoded data removed]",
      "text/plain": [
       "<Figure size 360x360 with 1 Axes>"
      ]
     },
     "metadata": {
      "needs_background": "light"
     },
     "output_type": "display_data"
    }
   ],
   "source": [
    "sns.relplot(x='Vid_views',y='Vid_title',data=top10videos)"
   ]
  },
  {
   "cell_type": "code",
   "execution_count": 37,
   "id": "039e0cb0",
   "metadata": {},
   "outputs": [
    {
     "data": {
      "text/plain": [
       "(array([ 0,  1,  2,  3,  4,  5,  6,  7,  8,  9, 10, 11]),\n",
       " [Text(0, 0, 'March'),\n",
       "  Text(1, 0, 'February'),\n",
       "  Text(2, 0, 'January'),\n",
       "  Text(3, 0, 'December'),\n",
       "  Text(4, 0, 'November'),\n",
       "  Text(5, 0, 'October'),\n",
       "  Text(6, 0, 'September'),\n",
       "  Text(7, 0, 'August'),\n",
       "  Text(8, 0, 'July'),\n",
       "  Text(9, 0, 'June'),\n",
       "  Text(10, 0, 'May'),\n",
       "  Text(11, 0, 'April')])"
      ]
     },
     "execution_count": 37,
     "metadata": {},
     "output_type": "execute_result"
    },
    {
     "data": {
      "image/png": "[encoded data removed]",
      "text/plain": [
       "<Figure size 432x288 with 1 Axes>"
      ]
     },
     "metadata": {
      "needs_background": "light"
     },
     "output_type": "display_data"
    }
   ],
   "source": [
    "sns.countplot(x=\"Month\",data=video_data)\n",
    "plt.xticks(rotation = 90)"
   ]
  },
  {
   "cell_type": "code",
   "execution_count": null,
   "id": "74cdaf12",
   "metadata": {},
   "outputs": [],
   "source": []
  }
 ],
 "metadata": {
  "kernelspec": {
   "display_name": "Python 3 (ipykernel)",
   "language": "python",
   "name": "python3"
  },
  "language_info": {
   "codemirror_mode": {
    "name": "ipython",
    "version": 3
   },
   "file_extension": ".py",
   "mimetype": "text/x-python",
   "name": "python",
   "nbconvert_exporter": "python",
   "pygments_lexer": "ipython3",
   "version": "3.10.0"
  }
 },
 "nbformat": 4,
 "nbformat_minor": 5
}
